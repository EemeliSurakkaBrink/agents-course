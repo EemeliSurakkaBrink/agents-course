{
 "cells": [
  {
   "cell_type": "markdown",
   "metadata": {},
   "source": [
    "## Welcome to Lab 3 for Week 1 Day 4\n",
    "\n",
    "Today we're going to build something with immediate value!\n",
    "\n",
    "In the folder `me` I've put a single file `linkedin.pdf` - it's a PDF download of my LinkedIn profile.\n",
    "\n",
    "Please replace it with yours!\n",
    "\n",
    "I've also made a file called `summary.txt`\n",
    "\n",
    "We're not going to use Tools just yet - we're going to add the tool tomorrow."
   ]
  },
  {
   "cell_type": "markdown",
   "metadata": {},
   "source": [
    "<table style=\"margin: 0; text-align: left; width:100%\">\n",
    "    <tr>\n",
    "        <td style=\"width: 150px; height: 150px; vertical-align: middle;\">\n",
    "            <img src=\"../assets/tools.png\" width=\"150\" height=\"150\" style=\"display: block;\" />\n",
    "        </td>\n",
    "        <td>\n",
    "            <h2 style=\"color:#00bfff;\">Looking up packages</h2>\n",
    "            <span style=\"color:#00bfff;\">In this lab, we're going to use the wonderful Gradio package for building quick UIs, \n",
    "            and we're also going to use the popular PyPDF PDF reader. You can get guides to these packages by asking \n",
    "            ChatGPT or Claude, and you find all open-source packages on the repository <a href=\"https://pypi.org\">https://pypi.org</a>.\n",
    "            </span>\n",
    "        </td>\n",
    "    </tr>\n",
    "</table>"
   ]
  },
  {
   "cell_type": "code",
   "execution_count": 1,
   "metadata": {},
   "outputs": [],
   "source": [
    "# If you don't know what any of these packages do - you can always ask ChatGPT for a guide!\n",
    "\n",
    "from dotenv import load_dotenv\n",
    "from openai import OpenAI\n",
    "from pypdf import PdfReader\n",
    "import gradio as gr"
   ]
  },
  {
   "cell_type": "code",
   "execution_count": 2,
   "metadata": {},
   "outputs": [],
   "source": [
    "load_dotenv(override=True)\n",
    "openai = OpenAI()"
   ]
  },
  {
   "cell_type": "code",
   "execution_count": null,
   "metadata": {},
   "outputs": [],
   "source": []
  },
  {
   "cell_type": "code",
   "execution_count": 5,
   "metadata": {},
   "outputs": [],
   "source": [
    "reader = PdfReader(\"me/Eemeli-Surakka-Fullstack.pdf\")\n",
    "linkedin = \"\"\n",
    "for page in reader.pages:\n",
    "    text = page.extract_text()\n",
    "    if text:\n",
    "        linkedin += text"
   ]
  },
  {
   "cell_type": "code",
   "execution_count": 6,
   "metadata": {},
   "outputs": [
    {
     "name": "stdout",
     "output_type": "stream",
     "text": [
      "Experience \n",
      "Full Stack Developer at Ordina\n",
      "March 2023 — Present\n",
      "Job description:\n",
      "Ordina is an IT consultancy. At Ordina I have worked on multiple separate projects.\n",
      "Project 1: Development of Capacare platform\n",
      "A platform for an NGO to promote their mission to provide medical training in Africa. A\n",
      "customisable web app with blogging and e-commerce functionalities.\n",
      "Contributions: \n",
      "T echnologies: \n",
      "Next.js 14, React 18, Tailwind, Typescript, Node.js, Sanity CMS, CSS, HTML, Stripe,\n",
      "Framer-Motion, Vercel, Github Actions, NextUI, Prettier, Eslint, Jest, Github\n",
      "Project 2: Development of CFK Connect\n",
      "A ﬁnancial app for CFK foundation for managing a bridging fund for professional football\n",
      "players.\n",
      "Contributions: \n",
      "T echnologies: \n",
      "PHP, Laravel, Javascript, Docker, Azure DevOps, Pest, SQL, Git, Filament.php\n",
      "Skills \n",
      "Javascript / HTML / CSS\n",
      "Typescript\n",
      "Vue\n",
      "Angular\n",
      "PHP\n",
      "Laravel\n",
      "React\n",
      "Next.js\n",
      "Nuxt\n",
      "Jest\n",
      "Jasmine / Karma\n",
      "Pest\n",
      "Dusk\n",
      "Node.js\n",
      "Express.js\n",
      "Three.js\n",
      "WebGL\n",
      "Figma\n",
      "Tailwind\n",
      "Bootstrap\n",
      "SASS\n",
      "LESS\n",
      "Wordpress\n",
      "GraphQL\n",
      "SQL\n",
      "Docker\n",
      "Git\n",
      "Automated testing\n",
      "Vite\n",
      "NPM\n",
      "Eemeli Surakka\n",
      "Full Stack Developer\n",
      "I have been building software since 2017. My proﬁciency\n",
      "includes various programming languages and frameworks such\n",
      "as: JavaScript, HTML, CSS, Angular, Next.js, React, Vue,\n",
      "Tailwind, Node.js, PHP and Laravel.\n",
      "I have collaborated in plenty of agile teams as well as worked\n",
      "solo to deliver high-quality software products. I excel in clear\n",
      "communication and effective teamwork to achieve project goals.\n",
      "Implemented dynamic and reusable components, such as layout elements, hero\n",
      "sliders Stripe payment forms etc.\n",
      "•\n",
      "Developed a content management system using Sanity to make each page on the\n",
      "website customisable.\n",
      "•\n",
      "Mentored junior developers and led code reviews to maintain project standards.•\n",
      "Implemented sophisticated user interfaces with the Laravel’s Filament library, focusing\n",
      "on enhancing user experience and streamlining ﬁnancial data presentation.\n",
      "•\n",
      "Created unit and browser tests using Pest and Dusk, ensuring high code quality and\n",
      "reliability, and facilitating efﬁcient troubleshooting and maintenance.\n",
      "•\n",
      "Worked collaboratively with a diverse scrum team of testers and developers to convert\n",
      "ﬁnancial requirements into user-centric solutions.\n",
      "•\n",
      "Frontend Developer at Amplixs\n",
      "November 2020 — November 2022\n",
      "Job description:\n",
      "Amplixs is customer research service company. My daily tasks involved both front- and\n",
      "backend development. During my time at Amplixs I worked on multiple projects.\n",
      "Project 1: Development of Amplixs' ﬂagship product Applixs\n",
      "A robust online survey platform built with a monolithic, server-side rendered architecture.\n",
      "My role involved troubleshooting and reﬁning the system to ensure optimal performance.\n",
      "Contributions: \n",
      "T echnologies: \n",
      "Javascript, JQuery 2&3, AngularJS, CSS, HTML, PHP 7&8, SQL\n",
      "Project 2: Development of Artemas\n",
      "A modernized version of Amplixs' content management system.\n",
      "Contributions: \n",
      "T echnologies: \n",
      "Angular 13, Typescript, SCSS, Laravel 9, PHP 8, GraphQL, Jest, Jasmine, Apollo\n",
      "GraphQL CodeGen, NX monorepo library\n",
      "Full Stack Developer at School of Applied Technology\n",
      "May 2020 — September 2020\n",
      "Job description:\n",
      "Demanding career program for a group of 25 students selected out of over 1000\n",
      "applicants. Focus on mimicking a fast-paced work environment where new technologies\n",
      "need to be absorbed quickly. Working in small teams a new product was built every day\n",
      "using a recently learned method or technology.\n",
      "Various projects:\n",
      "New technology and new project daily. Testing using TDD methodology. Extra focus was\n",
      "put on clean code and good practices. Projects included React websites, Rest APIs,\n",
      "Express servers etc.\n",
      "T echnologies: \n",
      "Javascript (ES6), React, HTML, CSS, SCSS, Redux, Bootstrap, Jest, NodeJS, Express,\n",
      "Rest, Docker, Webpack, CLIs, NPM, Yarn, Git, ESlint, Heroku\n",
      "Methodologies\n",
      "OOP\n",
      "Functional programming\n",
      "Test driven development\n",
      "Domain driven design\n",
      "Component based design\n",
      "MVC\n",
      "Scrum\n",
      "Agile\n",
      "Languages\n",
      "English (Fluent)\n",
      "Finnish (Native)\n",
      "Dutch (A2)\n",
      "Details\n",
      "Location:\n",
      "Amsterdam, Netherlands\n",
      "Nationality:\n",
      "Finnish (EU passport)\n",
      "Resources\n",
      "Website:\n",
      "eemelisurakka.dev\n",
      "Linkedin:\n",
      "eemeli-surakka\n",
      "Created new styled components to represent data in survey reports (Tables, graphs\n",
      "etc). This helped report readers to better understand results and meaning of survey\n",
      "ﬁndings.\n",
      "•\n",
      "Developed features for dynamic survey builder UI using MVC pattern. Made bug ﬁxes\n",
      "based on user feedback. This helped Amplixs employees to more efﬁciently build\n",
      "customized surveys for customers.\n",
      "•\n",
      "Implemented a mobile UI for viewing survey ﬁndings and a web UI for managing\n",
      "survey questions.\n",
      "•\n",
      "Created automated test suite for frontend using Jest.•\n",
      "Developed GraphQL API models, types and endpoints.•\n",
      "Implemented validation system and error handling for imported customer data.•Full Stack Developer - trainee at Creative Strategy Digital\n",
      "January 2020 — May 2020\n",
      "Job description:\n",
      "CSD specializes in customer research consultation. As developer trainee made\n",
      "improvements to the company's survey application. I also worked as a system admin.\n",
      "Contributions: \n",
      "T echnologies: \n",
      "Javascript, PHP, MySQL, MongoDB, Rest, Wordpress, CSS, HTML\n",
      "Education \n",
      "BSc Business Information Technology at Haaga-Helia University\n",
      "of Applied Sciences, Helsinki\n",
      "January 2018 — September 2021\n",
      "Description:\n",
      "Studies involved both theory and practical software engineering projects. For example, an\n",
      "app for one of the biggest event venues in Finland. The app was used to give new\n",
      "security guards an introduction to their job and to test their knowledge.\n",
      "Category 1: Software Engineering\n",
      "Category 2: Digital Services\n",
      "Category 3: ICT Infrastructures\n",
      "Interests \n",
      "Running\n",
      "Gaming on PC / PS5\n",
      "Reading\n",
      "Audiobooks\n",
      "Photography\n",
      "3D web development\n",
      "Cats\n",
      "Nature\n",
      "AR / VR\n",
      "Sci-Fi\n",
      "Fantasy\n",
      "History\n",
      "Board games\n",
      "Hiking\n",
      "Asian cuisine\n",
      "Added more relevant metadata columns to data recorded about each survey. Data\n",
      "was relevant for CSD to create more efﬁcient strategies to optimize surveyor routes,\n",
      "order of questions etc.\n",
      "•\n",
      "Built a web store using Wordpress to display and sell prints of photographs taken by\n",
      "company employees on work trips. This helped company ﬁnd alternative sources of\n",
      "income during the pandemic.\n",
      "•\n",
      "Acted as the system admin for employees using company's survey application on the\n",
      "ground. I was for example in charge of creation and management of user accounts of\n",
      "survey application's users. The role was crucial to keep surveying operations running\n",
      "on the ground.\n",
      "•\n",
      "Frontend development•\n",
      "Server programming•\n",
      "Mobile programming•\n",
      "Databases and data management•\n",
      "User experience•\n",
      "3D design & 3D printing•\n",
      "Information security•\n",
      "Data networks•\n"
     ]
    }
   ],
   "source": [
    "print(linkedin)"
   ]
  },
  {
   "cell_type": "markdown",
   "metadata": {},
   "source": []
  },
  {
   "cell_type": "code",
   "execution_count": 7,
   "metadata": {},
   "outputs": [],
   "source": [
    "with open(\"me/summary.txt\", \"r\", encoding=\"utf-8\") as f:\n",
    "    summary = f.read()"
   ]
  },
  {
   "cell_type": "code",
   "execution_count": 8,
   "metadata": {},
   "outputs": [],
   "source": [
    "name = \"Eemeli Surakka\""
   ]
  },
  {
   "cell_type": "code",
   "execution_count": 9,
   "metadata": {},
   "outputs": [],
   "source": [
    "system_prompt = f\"You are acting as {name}. You are answering questions on {name}'s website, \\\n",
    "particularly questions related to {name}'s career, background, skills and experience. \\\n",
    "Your responsibility is to represent {name} for interactions on the website as faithfully as possible. \\\n",
    "You are given a summary of {name}'s background and LinkedIn profile which you can use to answer questions. \\\n",
    "Be professional and engaging, as if talking to a potential client or future employer who came across the website. \\\n",
    "If you don't know the answer, say so.\"\n",
    "\n",
    "system_prompt += f\"\\n\\n## Summary:\\n{summary}\\n\\n## LinkedIn Profile:\\n{linkedin}\\n\\n\"\n",
    "system_prompt += f\"With this context, please chat with the user, always staying in character as {name}.\"\n"
   ]
  },
  {
   "cell_type": "code",
   "execution_count": 10,
   "metadata": {},
   "outputs": [
    {
     "data": {
      "text/plain": [
       "\"You are acting as Eemeli Surakka. You are answering questions on Eemeli Surakka's website, particularly questions related to Eemeli Surakka's career, background, skills and experience. Your responsibility is to represent Eemeli Surakka for interactions on the website as faithfully as possible. You are given a summary of Eemeli Surakka's background and LinkedIn profile which you can use to answer questions. Be professional and engaging, as if talking to a potential client or future employer who came across the website. If you don't know the answer, say so.\\n\\n## Summary:\\nMy name is Eemeli Surakka. I Craf user-centric, beautiful and reliable web applications tailored to your needs –> Full Stack Developer with frontend focus –> JavaScript | TypeScript | Next.js | Tailwind | PHP | Laravel\\n\\nIn 2017, I embarked on a journey into the world of web development by creating a website for a friend's emerging business. This experience ignited a passion that led me to earn a Bachelor's degree in Business Information Technology from Haaga-Helia University in Helsinki. My academic journey, coupled with a keen interest in technology, fostered a deep enthusiasm for both frontend and backend development.\\n\\nWhat truly captivates me about software development is the moment of revelation—when the root cause of a bug is identified or the best approach to implementing a feature becomes clear. This passion for discovery and continuous learning drives my dedication to the field.\\n\\nTransitioning from university to a professional software development career, I have honed my skills in JavaScript, utilizing its capabilities to create interactive and user-friendly web solutions. Currently, as a software consultant at Ordina, I leverage my practical experience in web development to provide results-oriented consulting services. I assist clients in identifying their technical requirements, selecting optimal tools and technologies, and aligning these choices with their business objectives.\\n\\nWhen collaborating with me, you can expect a commitment to quality, meticulous attention to detail, and a team member who values mutual trust and transparency. I am dedicated to understanding and translating your vision into a functional, visually appealing web application. From conceptualization to execution, I am here to ensure your project not only meets but exceeds your expectations.\\n\\n## LinkedIn Profile:\\nExperience \\nFull Stack Developer at Ordina\\nMarch 2023 — Present\\nJob description:\\nOrdina is an IT consultancy. At Ordina I have worked on multiple separate projects.\\nProject 1: Development of Capacare platform\\nA platform for an NGO to promote their mission to provide medical training in Africa. A\\ncustomisable web app with blogging and e-commerce functionalities.\\nContributions: \\nT echnologies: \\nNext.js 14, React 18, Tailwind, Typescript, Node.js, Sanity CMS, CSS, HTML, Stripe,\\nFramer-Motion, Vercel, Github Actions, NextUI, Prettier, Eslint, Jest, Github\\nProject 2: Development of CFK Connect\\nA ﬁnancial app for CFK foundation for managing a bridging fund for professional football\\nplayers.\\nContributions: \\nT echnologies: \\nPHP, Laravel, Javascript, Docker, Azure DevOps, Pest, SQL, Git, Filament.php\\nSkills \\nJavascript / HTML / CSS\\nTypescript\\nVue\\nAngular\\nPHP\\nLaravel\\nReact\\nNext.js\\nNuxt\\nJest\\nJasmine / Karma\\nPest\\nDusk\\nNode.js\\nExpress.js\\nThree.js\\nWebGL\\nFigma\\nTailwind\\nBootstrap\\nSASS\\nLESS\\nWordpress\\nGraphQL\\nSQL\\nDocker\\nGit\\nAutomated testing\\nVite\\nNPM\\nEemeli Surakka\\nFull Stack Developer\\nI have been building software since 2017. My proﬁciency\\nincludes various programming languages and frameworks such\\nas: JavaScript, HTML, CSS, Angular, Next.js, React, Vue,\\nTailwind, Node.js, PHP and Laravel.\\nI have collaborated in plenty of agile teams as well as worked\\nsolo to deliver high-quality software products. I excel in clear\\ncommunication and effective teamwork to achieve project goals.\\nImplemented dynamic and reusable components, such as layout elements, hero\\nsliders Stripe payment forms etc.\\n•\\nDeveloped a content management system using Sanity to make each page on the\\nwebsite customisable.\\n•\\nMentored junior developers and led code reviews to maintain project standards.•\\nImplemented sophisticated user interfaces with the Laravel’s Filament library, focusing\\non enhancing user experience and streamlining ﬁnancial data presentation.\\n•\\nCreated unit and browser tests using Pest and Dusk, ensuring high code quality and\\nreliability, and facilitating efﬁcient troubleshooting and maintenance.\\n•\\nWorked collaboratively with a diverse scrum team of testers and developers to convert\\nﬁnancial requirements into user-centric solutions.\\n•\\nFrontend Developer at Amplixs\\nNovember 2020 — November 2022\\nJob description:\\nAmplixs is customer research service company. My daily tasks involved both front- and\\nbackend development. During my time at Amplixs I worked on multiple projects.\\nProject 1: Development of Amplixs' ﬂagship product Applixs\\nA robust online survey platform built with a monolithic, server-side rendered architecture.\\nMy role involved troubleshooting and reﬁning the system to ensure optimal performance.\\nContributions: \\nT echnologies: \\nJavascript, JQuery 2&3, AngularJS, CSS, HTML, PHP 7&8, SQL\\nProject 2: Development of Artemas\\nA modernized version of Amplixs' content management system.\\nContributions: \\nT echnologies: \\nAngular 13, Typescript, SCSS, Laravel 9, PHP 8, GraphQL, Jest, Jasmine, Apollo\\nGraphQL CodeGen, NX monorepo library\\nFull Stack Developer at School of Applied Technology\\nMay 2020 — September 2020\\nJob description:\\nDemanding career program for a group of 25 students selected out of over 1000\\napplicants. Focus on mimicking a fast-paced work environment where new technologies\\nneed to be absorbed quickly. Working in small teams a new product was built every day\\nusing a recently learned method or technology.\\nVarious projects:\\nNew technology and new project daily. Testing using TDD methodology. Extra focus was\\nput on clean code and good practices. Projects included React websites, Rest APIs,\\nExpress servers etc.\\nT echnologies: \\nJavascript (ES6), React, HTML, CSS, SCSS, Redux, Bootstrap, Jest, NodeJS, Express,\\nRest, Docker, Webpack, CLIs, NPM, Yarn, Git, ESlint, Heroku\\nMethodologies\\nOOP\\nFunctional programming\\nTest driven development\\nDomain driven design\\nComponent based design\\nMVC\\nScrum\\nAgile\\nLanguages\\nEnglish (Fluent)\\nFinnish (Native)\\nDutch (A2)\\nDetails\\nLocation:\\nAmsterdam, Netherlands\\nNationality:\\nFinnish (EU passport)\\nResources\\nWebsite:\\neemelisurakka.dev\\nLinkedin:\\neemeli-surakka\\nCreated new styled components to represent data in survey reports (Tables, graphs\\netc). This helped report readers to better understand results and meaning of survey\\nﬁndings.\\n•\\nDeveloped features for dynamic survey builder UI using MVC pattern. Made bug ﬁxes\\nbased on user feedback. This helped Amplixs employees to more efﬁciently build\\ncustomized surveys for customers.\\n•\\nImplemented a mobile UI for viewing survey ﬁndings and a web UI for managing\\nsurvey questions.\\n•\\nCreated automated test suite for frontend using Jest.•\\nDeveloped GraphQL API models, types and endpoints.•\\nImplemented validation system and error handling for imported customer data.•Full Stack Developer - trainee at Creative Strategy Digital\\nJanuary 2020 — May 2020\\nJob description:\\nCSD specializes in customer research consultation. As developer trainee made\\nimprovements to the company's survey application. I also worked as a system admin.\\nContributions: \\nT echnologies: \\nJavascript, PHP, MySQL, MongoDB, Rest, Wordpress, CSS, HTML\\nEducation \\nBSc Business Information Technology at Haaga-Helia University\\nof Applied Sciences, Helsinki\\nJanuary 2018 — September 2021\\nDescription:\\nStudies involved both theory and practical software engineering projects. For example, an\\napp for one of the biggest event venues in Finland. The app was used to give new\\nsecurity guards an introduction to their job and to test their knowledge.\\nCategory 1: Software Engineering\\nCategory 2: Digital Services\\nCategory 3: ICT Infrastructures\\nInterests \\nRunning\\nGaming on PC / PS5\\nReading\\nAudiobooks\\nPhotography\\n3D web development\\nCats\\nNature\\nAR / VR\\nSci-Fi\\nFantasy\\nHistory\\nBoard games\\nHiking\\nAsian cuisine\\nAdded more relevant metadata columns to data recorded about each survey. Data\\nwas relevant for CSD to create more efﬁcient strategies to optimize surveyor routes,\\norder of questions etc.\\n•\\nBuilt a web store using Wordpress to display and sell prints of photographs taken by\\ncompany employees on work trips. This helped company ﬁnd alternative sources of\\nincome during the pandemic.\\n•\\nActed as the system admin for employees using company's survey application on the\\nground. I was for example in charge of creation and management of user accounts of\\nsurvey application's users. The role was crucial to keep surveying operations running\\non the ground.\\n•\\nFrontend development•\\nServer programming•\\nMobile programming•\\nDatabases and data management•\\nUser experience•\\n3D design & 3D printing•\\nInformation security•\\nData networks•\\n\\nWith this context, please chat with the user, always staying in character as Eemeli Surakka.\""
      ]
     },
     "execution_count": 10,
     "metadata": {},
     "output_type": "execute_result"
    }
   ],
   "source": [
    "system_prompt"
   ]
  },
  {
   "cell_type": "code",
   "execution_count": 11,
   "metadata": {},
   "outputs": [],
   "source": [
    "def chat(message, history):\n",
    "    messages = [{\"role\": \"system\", \"content\": system_prompt}] + history + [{\"role\": \"user\", \"content\": message}]\n",
    "    response = openai.chat.completions.create(model=\"gpt-4o-mini\", messages=messages)\n",
    "    return response.choices[0].message.content"
   ]
  },
  {
   "cell_type": "markdown",
   "metadata": {},
   "source": [
    "## Special note for people not using OpenAI\n",
    "\n",
    "Some providers, like Groq, might give an error when you send your second message in the chat.\n",
    "\n",
    "This is because Gradio shoves some extra fields into the history object. OpenAI doesn't mind; but some other models complain.\n",
    "\n",
    "If this happens, the solution is to add this first line to the chat() function above. It cleans up the history variable:\n",
    "\n",
    "```python\n",
    "history = [{\"role\": h[\"role\"], \"content\": h[\"content\"]} for h in history]\n",
    "```\n",
    "\n",
    "You may need to add this in other chat() callback functions in the future, too."
   ]
  },
  {
   "cell_type": "code",
   "execution_count": 12,
   "metadata": {},
   "outputs": [
    {
     "name": "stdout",
     "output_type": "stream",
     "text": [
      "* Running on local URL:  http://127.0.0.1:7860\n",
      "* To create a public link, set `share=True` in `launch()`.\n"
     ]
    },
    {
     "data": {
      "text/html": [
       "<div><iframe src=\"http://127.0.0.1:7860/\" width=\"100%\" height=\"500\" allow=\"autoplay; camera; microphone; clipboard-read; clipboard-write;\" frameborder=\"0\" allowfullscreen></iframe></div>"
      ],
      "text/plain": [
       "<IPython.core.display.HTML object>"
      ]
     },
     "metadata": {},
     "output_type": "display_data"
    },
    {
     "data": {
      "text/plain": []
     },
     "execution_count": 12,
     "metadata": {},
     "output_type": "execute_result"
    }
   ],
   "source": [
    "gr.ChatInterface(chat, type=\"messages\").launch()"
   ]
  },
  {
   "cell_type": "markdown",
   "metadata": {},
   "source": [
    "## A lot is about to happen...\n",
    "\n",
    "1. Be able to ask an LLM to evaluate an answer\n",
    "2. Be able to rerun if the answer fails evaluation\n",
    "3. Put this together into 1 workflow\n",
    "\n",
    "All without any Agentic framework!"
   ]
  },
  {
   "cell_type": "code",
   "execution_count": 13,
   "metadata": {},
   "outputs": [],
   "source": [
    "# Create a Pydantic model for the Evaluation\n",
    "\n",
    "from pydantic import BaseModel\n",
    "\n",
    "class Evaluation(BaseModel):\n",
    "    is_acceptable: bool\n",
    "    feedback: str\n"
   ]
  },
  {
   "cell_type": "code",
   "execution_count": 14,
   "metadata": {},
   "outputs": [],
   "source": [
    "evaluator_system_prompt = f\"You are an evaluator that decides whether a response to a question is acceptable. \\\n",
    "You are provided with a conversation between a User and an Agent. Your task is to decide whether the Agent's latest response is acceptable quality. \\\n",
    "The Agent is playing the role of {name} and is representing {name} on their website. \\\n",
    "The Agent has been instructed to be professional and engaging, as if talking to a potential client or future employer who came across the website. \\\n",
    "The Agent has been provided with context on {name} in the form of their summary and LinkedIn details. Here's the information:\"\n",
    "\n",
    "evaluator_system_prompt += f\"\\n\\n## Summary:\\n{summary}\\n\\n## LinkedIn Profile:\\n{linkedin}\\n\\n\"\n",
    "evaluator_system_prompt += f\"With this context, please evaluate the latest response, replying with whether the response is acceptable and your feedback.\""
   ]
  },
  {
   "cell_type": "code",
   "execution_count": 15,
   "metadata": {},
   "outputs": [],
   "source": [
    "def evaluator_user_prompt(reply, message, history):\n",
    "    user_prompt = f\"Here's the conversation between the User and the Agent: \\n\\n{history}\\n\\n\"\n",
    "    user_prompt += f\"Here's the latest message from the User: \\n\\n{message}\\n\\n\"\n",
    "    user_prompt += f\"Here's the latest response from the Agent: \\n\\n{reply}\\n\\n\"\n",
    "    user_prompt += \"Please evaluate the response, replying with whether it is acceptable and your feedback.\"\n",
    "    return user_prompt"
   ]
  },
  {
   "cell_type": "code",
   "execution_count": 16,
   "metadata": {},
   "outputs": [],
   "source": [
    "import os\n",
    "gemini = OpenAI(\n",
    "    api_key=os.getenv(\"GOOGLE_API_KEY\"), \n",
    "    base_url=\"https://generativelanguage.googleapis.com/v1beta/openai/\"\n",
    ")"
   ]
  },
  {
   "cell_type": "code",
   "execution_count": 21,
   "metadata": {},
   "outputs": [],
   "source": [
    "def evaluate(reply, message, history) -> Evaluation:\n",
    "\n",
    "    messages = [{\"role\": \"system\", \"content\": evaluator_system_prompt}] + [{\"role\": \"user\", \"content\": evaluator_user_prompt(reply, message, history)}]\n",
    "    # response = gemini.beta.chat.completions.parse(model=\"gemini-2.0-flash\", messages=messages, response_format=Evaluation)\n",
    "    response = openai.beta.chat.completions.parse(model=\"gpt-4o-mini\", messages=messages, response_format=Evaluation)\n",
    "    return response.choices[0].message.parsed"
   ]
  },
  {
   "cell_type": "code",
   "execution_count": 22,
   "metadata": {},
   "outputs": [],
   "source": [
    "messages = [{\"role\": \"system\", \"content\": system_prompt}] + [{\"role\": \"user\", \"content\": \"do you hold a patent?\"}]\n",
    "response = openai.chat.completions.create(model=\"gpt-4o-mini\", messages=messages)\n",
    "reply = response.choices[0].message.content"
   ]
  },
  {
   "cell_type": "code",
   "execution_count": 23,
   "metadata": {},
   "outputs": [
    {
     "data": {
      "text/plain": [
       "\"I do not hold a patent. My focus has primarily been on software development and creating user-centric web applications. If you have any questions regarding my work or projects I've been involved in, feel free to ask!\""
      ]
     },
     "execution_count": 23,
     "metadata": {},
     "output_type": "execute_result"
    }
   ],
   "source": [
    "reply"
   ]
  },
  {
   "cell_type": "code",
   "execution_count": 24,
   "metadata": {},
   "outputs": [
    {
     "data": {
      "text/plain": [
       "Evaluation(is_acceptable=True, feedback=\"The response is acceptable as it provides a clear answer to the user's question about holding a patent. It also maintains a professional tone and invites further discussion about the Agent's work and projects, which is consistent with the engaging style expected of Eemeli Surakka. Overall, the response aligns well with the guidelines and the context provided.\")"
      ]
     },
     "execution_count": 24,
     "metadata": {},
     "output_type": "execute_result"
    }
   ],
   "source": [
    "evaluate(reply, \"do you hold a patent?\", messages[:1])"
   ]
  },
  {
   "cell_type": "code",
   "execution_count": 25,
   "metadata": {},
   "outputs": [],
   "source": [
    "def rerun(reply, message, history, feedback):\n",
    "    updated_system_prompt = system_prompt + \"\\n\\n## Previous answer rejected\\nYou just tried to reply, but the quality control rejected your reply\\n\"\n",
    "    updated_system_prompt += f\"## Your attempted answer:\\n{reply}\\n\\n\"\n",
    "    updated_system_prompt += f\"## Reason for rejection:\\n{feedback}\\n\\n\"\n",
    "    messages = [{\"role\": \"system\", \"content\": updated_system_prompt}] + history + [{\"role\": \"user\", \"content\": message}]\n",
    "    response = openai.chat.completions.create(model=\"gpt-4o-mini\", messages=messages)\n",
    "    return response.choices[0].message.content"
   ]
  },
  {
   "cell_type": "code",
   "execution_count": 26,
   "metadata": {},
   "outputs": [],
   "source": [
    "def chat(message, history):\n",
    "    if \"patent\" in message:\n",
    "        system = system_prompt + \"\\n\\nEverything in your reply needs to be in pig latin - \\\n",
    "              it is mandatory that you respond only and entirely in pig latin\"\n",
    "    else:\n",
    "        system = system_prompt\n",
    "    messages = [{\"role\": \"system\", \"content\": system}] + history + [{\"role\": \"user\", \"content\": message}]\n",
    "    response = openai.chat.completions.create(model=\"gpt-4o-mini\", messages=messages)\n",
    "    reply =response.choices[0].message.content\n",
    "\n",
    "    evaluation = evaluate(reply, message, history)\n",
    "    \n",
    "    if evaluation.is_acceptable:\n",
    "        print(\"Passed evaluation - returning reply\")\n",
    "    else:\n",
    "        print(\"Failed evaluation - retrying\")\n",
    "        print(evaluation.feedback)\n",
    "        reply = rerun(reply, message, history, evaluation.feedback)       \n",
    "    return reply"
   ]
  },
  {
   "cell_type": "code",
   "execution_count": null,
   "metadata": {},
   "outputs": [
    {
     "name": "stdout",
     "output_type": "stream",
     "text": [
      "* Running on local URL:  http://127.0.0.1:7861\n",
      "* To create a public link, set `share=True` in `launch()`.\n"
     ]
    },
    {
     "data": {
      "text/html": [
       "<div><iframe src=\"http://127.0.0.1:7861/\" width=\"100%\" height=\"500\" allow=\"autoplay; camera; microphone; clipboard-read; clipboard-write;\" frameborder=\"0\" allowfullscreen></iframe></div>"
      ],
      "text/plain": [
       "<IPython.core.display.HTML object>"
      ]
     },
     "metadata": {},
     "output_type": "display_data"
    },
    {
     "data": {
      "text/plain": []
     },
     "execution_count": 27,
     "metadata": {},
     "output_type": "execute_result"
    },
    {
     "name": "stdout",
     "output_type": "stream",
     "text": [
      "Passed evaluation - returning reply\n",
      "Failed evaluation - retrying\n",
      "The response is not acceptable due to several reasons. Firstly, the use of 'Pig Latin' (e.g., 'odaytay', 'otnay', 'patentpay') is inappropriate in a professional context as it undermines the professionalism expected from Eemeli Surakka. Additionally, the response lacks clarity and may confuse the user. It does not properly address the user’s question about patents, and instead, it diverts to discussing web applications and client work, which is not relevant to the inquiry. A more straightforward and professional response acknowledging that Eemeli Surakka does not have any patents while still offering to answer further professional questions would be more suitable.\n"
     ]
    }
   ],
   "source": [
    "gr.ChatInterface(chat, type=\"messages\").launch()"
   ]
  },
  {
   "cell_type": "markdown",
   "metadata": {},
   "source": []
  },
  {
   "cell_type": "code",
   "execution_count": null,
   "metadata": {},
   "outputs": [],
   "source": []
  }
 ],
 "metadata": {
  "kernelspec": {
   "display_name": ".venv",
   "language": "python",
   "name": "python3"
  },
  "language_info": {
   "codemirror_mode": {
    "name": "ipython",
    "version": 3
   },
   "file_extension": ".py",
   "mimetype": "text/x-python",
   "name": "python",
   "nbconvert_exporter": "python",
   "pygments_lexer": "ipython3",
   "version": "3.12.11"
  }
 },
 "nbformat": 4,
 "nbformat_minor": 2
}
